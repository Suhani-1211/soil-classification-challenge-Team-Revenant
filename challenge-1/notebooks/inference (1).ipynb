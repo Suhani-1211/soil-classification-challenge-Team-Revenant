{
  "nbformat": 4,
  "nbformat_minor": 0,
  "metadata": {
    "colab": {
      "provenance": []
    },
    "kernelspec": {
      "name": "python3",
      "display_name": "Python 3"
    },
    "language_info": {
      "name": "python"
    }
  },
  "cells": [
    {
      "cell_type": "code",
      "execution_count": null,
      "metadata": {
        "id": "nG2h-3cWah1W"
      },
      "outputs": [],
      "source": [
        "\"\"\"\n",
        "\n",
        "Author: Suhani-Bajjard\n",
        "Team Name: Revenant\n",
        "Team Members: Suhani Bajjard, Shivani Singh, Aditya Rai, Aman, Radhika\n",
        "Leaderboard Rank: 50\n",
        "\n",
        "\"\"\"\n",
        "\n",
        "# This is the notebook used for making the inferences using the model trained."
      ]
    }
  ]
}{
 "cells": [
  {
   "cell_type": "code",
   "execution_count": 8,
   "id": "dced8b3a-0c0f-44b0-a941-24b75ae66492",
   "metadata": {
    "execution": {
     "iopub.execute_input": "2025-05-25T09:02:13.788315Z",
     "iopub.status.busy": "2025-05-25T09:02:13.787940Z",
     "iopub.status.idle": "2025-05-25T09:02:16.734863Z",
     "shell.execute_reply": "2025-05-25T09:02:16.734059Z",
     "shell.execute_reply.started": "2025-05-25T09:02:13.788292Z"
    }
   },
   "outputs": [
    {
     "name": "stdout",
     "output_type": "stream",
     "text": [
      "Final submission saved with 341 rows.\n"
     ]
    }
   ],
   "source": [
    "## 7. Prediction with Robust Model Loading\n",
    "test_transform = A.Compose([\n",
    "    A.SmallestMaxSize(max_size=256),\n",
    "    A.CenterCrop(height=224, width=224),\n",
    "    A.Normalize(mean=[0.485, 0.456, 0.406], std=[0.229, 0.224, 0.225]),\n",
    "    ToTensorV2()\n",
    "])\n",
    "\n",
    "# First try secure loading\n",
    "try:\n",
    "    checkpoint = torch.load('best_soil_model.pth', weights_only=False)\n",
    "    model.load_state_dict(checkpoint['model_state_dict'])\n",
    "except Exception as e:\n",
    "    print(f\"Secure loading failed: {str(e)}\")\n",
    "    print(\"Attempting safe_globals loading\")\n",
    "    \n",
    "    # Import required modules\n",
    "    from torch.serialization import safe_globals\n",
    "    import numpy as np\n",
    "    from numpy.core.multiarray import scalar\n",
    "    from numpy import dtype\n",
    "    \n",
    "    # Create a custom safe_globals context\n",
    "    def custom_safe_globals():\n",
    "        base_globals = safe_globals()\n",
    "        base_globals.update({\n",
    "            'numpy.core.multiarray.scalar': scalar,\n",
    "            'numpy.dtype': dtype\n",
    "        })\n",
    "        return base_globals\n",
    "    \n",
    "    with torch.serialization._use_custom_globals(custom_safe_globals()):\n",
    "        checkpoint = torch.load('best_soil_model.pth')\n",
    "        model.load_state_dict(checkpoint['model_state_dict'])\n",
    "\n",
    "model.eval()\n",
    "\n",
    "# Rest of your prediction code...\n",
    "test_dataset = TestDataset(test_csv, test_dir, transform=test_transform)\n",
    "test_loader = DataLoader(test_dataset, batch_size=64, shuffle=False, num_workers=4)\n",
    "\n",
    "predictions, filenames = [], []\n",
    "with torch.no_grad():\n",
    "    for images, names in test_loader:\n",
    "        images = images.to(device)\n",
    "        outputs = model(images)\n",
    "        _, preds = outputs.max(1)\n",
    "        predictions.extend([full_dataset.idx_to_class[p.item()] for p in preds])\n",
    "        filenames.extend(names)\n",
    "\n",
    "submission = pd.DataFrame({'image_id': filenames, 'soil_type': predictions})\n",
    "submission.to_csv('submission.csv', index=False)\n",
    "print(f\"Final submission saved with {len(submission)} rows.\")"
   ]
  },
  {
   "cell_type": "code",
   "execution_count": null,
   "id": "8c1f19c2",
   "metadata": {
    "execution": {
     "iopub.execute_input": "2025-05-25T09:31:39.539402Z",
     "iopub.status.busy": "2025-05-25T09:31:39.538718Z",
     "iopub.status.idle": "2025-05-25T09:31:39.545654Z",
     "shell.execute_reply": "2025-05-25T09:31:39.544612Z",
     "shell.execute_reply.started": "2025-05-25T09:31:39.539378Z"
    }
   },
   "outputs": [],
   "source": [
    "class SoilDataset(Dataset):\n",
    "    def __init__(self, df, img_dir, transform=None, test=False):\n",
    "        self.df = df\n",
    "        self.img_dir = img_dir\n",
    "        self.transform = transform\n",
    "        self.test = test\n",
    "\n",
    "    def __len__(self):\n",
    "        return len(self.df)\n",
    "\n",
    "    def __getitem__(self, idx):\n",
    "        img_name = self.df.iloc[idx]['image_id']\n",
    "        img_path = os.path.join(self.img_dir, img_name)\n",
    "        image = Image.open(img_path).convert(\"RGB\")\n",
    "        if self.transform:\n",
    "            image = self.transform(image)\n",
    "        if self.test:\n",
    "            return image, img_name\n",
    "        else:\n",
    "            label = self.df.iloc[idx]['label']\n",
    "            return image, label"
   ]
  },
  {
   "cell_type": "code",
   "execution_count": null,
   "id": "a0e7a2e0",
   "metadata": {
    "execution": {
     "iopub.execute_input": "2025-05-25T09:40:02.815611Z",
     "iopub.status.busy": "2025-05-25T09:40:02.814686Z",
     "iopub.status.idle": "2025-05-25T09:40:02.820721Z",
     "shell.execute_reply": "2025-05-25T09:40:02.819981Z",
     "shell.execute_reply.started": "2025-05-25T09:40:02.815574Z"
    }
   },
   "outputs": [],
   "source": [
    "def evaluate_model(model):\n",
    "    model.eval()\n",
    "    all_preds = []\n",
    "    all_labels = []\n",
    "    with torch.no_grad():\n",
    "        for images, labels in val_loader:\n",
    "            images = images.to(device)\n",
    "            outputs = model(images)\n",
    "            preds = (outputs > 0.5).int().cpu().numpy()\n",
    "            all_preds.extend(preds)\n",
    "            all_labels.extend(labels.numpy())\n",
    "    f1 = f1_score(all_labels, all_preds)\n",
    "    print(f\"Validation F1 Score: {f1:.4f}\")"
   ]
  },
  {
   "cell_type": "code",
   "execution_count": null,
   "id": "66f7956b",
   "metadata": {
    "execution": {
     "iopub.execute_input": "2025-05-25T10:12:38.318494Z",
     "iopub.status.busy": "2025-05-25T10:12:38.318138Z",
     "iopub.status.idle": "2025-05-25T10:13:26.125769Z",
     "shell.execute_reply": "2025-05-25T10:13:26.124936Z",
     "shell.execute_reply.started": "2025-05-25T10:12:38.318467Z"
    }
   },
   "outputs": [],
   "source": [
    "model.eval()\n",
    "preds = []\n",
    "file_names = []\n",
    "\n",
    "with torch.no_grad():\n",
    "    for images, names in tqdm(test_loader):\n",
    "        images = images.to(device)\n",
    "        outputs = model(images)\n",
    "        predicted = (outputs > 0.5).int().cpu().numpy()\n",
    "        preds.extend(predicted.flatten())\n",
    "        file_names.extend(names)"
   ]
  }
 ],
 "metadata": {
  "kaggle": {
   "accelerator": "gpu",
   "dataSources": [
    {
     "databundleVersionId": 12375409,
     "sourceId": 102672,
     "sourceType": "competition"
    },
    {
     "datasetId": 7503881,
     "sourceId": 11935538,
     "sourceType": "datasetVersion"
    }
   ],
   "dockerImageVersionId": 31041,
   "isGpuEnabled": true,
   "isInternetEnabled": true,
   "language": "python",
   "sourceType": "notebook"
  },
  "kernelspec": {
   "display_name": "Python 3",
   "language": "python",
   "name": "python3"
  },
  "language_info": {
   "codemirror_mode": {
    "name": "ipython",
    "version": 3
   },
   "file_extension": ".py",
   "mimetype": "text/x-python",
   "name": "python",
   "nbconvert_exporter": "python",
   "pygments_lexer": "ipython3",
   "version": "3.11.11"
  },
  "papermill": {
   "default_parameters": {},
   "duration": 95.247695,
   "end_time": "2025-05-24T17:45:32.818054",
   "environment_variables": {},
   "exception": true,
   "input_path": "__notebook__.ipynb",
   "output_path": "__notebook__.ipynb",
   "parameters": {},
   "start_time": "2025-05-24T17:43:57.570359",
   "version": "2.6.0"
  }
 },
 "nbformat": 4,
 "nbformat_minor": 5
}
