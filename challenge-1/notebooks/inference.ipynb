{
  "nbformat": 4,
  "nbformat_minor": 0,
  "metadata": {
    "colab": {
      "provenance": []
    },
    "kernelspec": {
      "name": "python3",
      "display_name": "Python 3"
    },
    "language_info": {
      "name": "python"
    }
  },
  "cells": [
    {
      "cell_type": "code",
      "execution_count": null,
      "metadata": {
        "id": "nG2h-3cWah1W"
      },
      "outputs": [],
      "source": [
        "\"\"\"\n",
        "\n",
        "Author: Suhani-Bajjard\n",
        "Team Name: Revenant\n",
        "Team Members: Suhani Bajjard, Shivani Singh, Aditya Rai, Aman, Radhika\n",
        "Leaderboard Rank: 50\n",
        "\n",
        "\"\"\"\n",
        "\n",
        "# This is the notebook used for making the inferences using the model trained."
      ]
    }
  ]
}
