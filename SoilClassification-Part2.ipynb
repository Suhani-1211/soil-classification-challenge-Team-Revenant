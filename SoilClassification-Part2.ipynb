{
 "cells": [
  {
   "cell_type": "code",
   "execution_count": 1,
   "id": "8297559b",
   "metadata": {
    "execution": {
     "iopub.execute_input": "2025-05-25T10:18:25.310842Z",
     "iopub.status.busy": "2025-05-25T10:18:25.310445Z",
     "iopub.status.idle": "2025-05-25T10:18:42.107989Z",
     "shell.execute_reply": "2025-05-25T10:18:42.107095Z"
    },
    "papermill": {
     "duration": 16.804906,
     "end_time": "2025-05-25T10:18:42.109832",
     "exception": false,
     "start_time": "2025-05-25T10:18:25.304926",
     "status": "completed"
    },
    "tags": []
   },
   "outputs": [],
   "source": [
    "import os\n",
    "import numpy as np\n",
    "import pandas as pd\n",
    "from tqdm import tqdm\n",
    "from sklearn.preprocessing import LabelEncoder\n",
    "from sklearn.metrics import f1_score\n",
    "from PIL import Image\n",
    "from sklearn.model_selection import train_test_split\n",
    "\n",
    "import torch\n",
    "import torch.nn as nn\n",
    "from torch.utils.data import Dataset, DataLoader\n",
    "from torchvision import models, transforms\n"
   ]
  },
  {
   "cell_type": "code",
   "execution_count": 2,
   "id": "6db058a6",
   "metadata": {
    "execution": {
     "iopub.execute_input": "2025-05-25T10:18:42.118498Z",
     "iopub.status.busy": "2025-05-25T10:18:42.118005Z",
     "iopub.status.idle": "2025-05-25T10:18:42.123166Z",
     "shell.execute_reply": "2025-05-25T10:18:42.122288Z"
    },
    "papermill": {
     "duration": 0.01104,
     "end_time": "2025-05-25T10:18:42.124697",
     "exception": false,
     "start_time": "2025-05-25T10:18:42.113657",
     "status": "completed"
    },
    "tags": []
   },
   "outputs": [],
   "source": [
    "data_dir = \"/kaggle/input/soil-classification-part-2/soil_competition-2025\"\n",
    "train_csv = os.path.join(data_dir, \"train_labels.csv\")\n",
    "train_img_dir = os.path.join(data_dir, \"train\")\n",
    "test_img_dir = os.path.join(data_dir, \"test\")\n"
   ]
  },
  {
   "cell_type": "code",
   "execution_count": 3,
   "id": "3a2d56c0",
   "metadata": {
    "execution": {
     "iopub.execute_input": "2025-05-25T10:18:42.132763Z",
     "iopub.status.busy": "2025-05-25T10:18:42.132342Z",
     "iopub.status.idle": "2025-05-25T10:18:42.155267Z",
     "shell.execute_reply": "2025-05-25T10:18:42.153899Z"
    },
    "papermill": {
     "duration": 0.029005,
     "end_time": "2025-05-25T10:18:42.157248",
     "exception": false,
     "start_time": "2025-05-25T10:18:42.128243",
     "status": "completed"
    },
    "tags": []
   },
   "outputs": [],
   "source": [
    "df = pd.read_csv(train_csv)"
   ]
  },
  {
   "cell_type": "code",
   "execution_count": 4,
   "id": "44cdbead",
   "metadata": {
    "execution": {
     "iopub.execute_input": "2025-05-25T10:18:42.165528Z",
     "iopub.status.busy": "2025-05-25T10:18:42.165207Z",
     "iopub.status.idle": "2025-05-25T10:18:42.183969Z",
     "shell.execute_reply": "2025-05-25T10:18:42.182963Z"
    },
    "papermill": {
     "duration": 0.024983,
     "end_time": "2025-05-25T10:18:42.185609",
     "exception": false,
     "start_time": "2025-05-25T10:18:42.160626",
     "status": "completed"
    },
    "tags": []
   },
   "outputs": [],
   "source": [
    "fake_neg = df.sample(300, random_state=42).copy()\n",
    "fake_neg['label'] = 0\n",
    "df_balanced = pd.concat([df, fake_neg], ignore_index=True)"
   ]
  },
  {
   "cell_type": "code",
   "execution_count": 5,
   "id": "3b29d4fc",
   "metadata": {
    "execution": {
     "iopub.execute_input": "2025-05-25T10:18:42.193469Z",
     "iopub.status.busy": "2025-05-25T10:18:42.193120Z",
     "iopub.status.idle": "2025-05-25T10:18:42.206630Z",
     "shell.execute_reply": "2025-05-25T10:18:42.205713Z"
    },
    "papermill": {
     "duration": 0.019528,
     "end_time": "2025-05-25T10:18:42.208560",
     "exception": false,
     "start_time": "2025-05-25T10:18:42.189032",
     "status": "completed"
    },
    "tags": []
   },
   "outputs": [],
   "source": [
    "train_df, val_df = train_test_split(df_balanced, test_size=0.2, stratify=df_balanced['label'], random_state=42)"
   ]
  },
  {
   "cell_type": "code",
   "execution_count": 6,
   "id": "1275cbbf",
   "metadata": {
    "execution": {
     "iopub.execute_input": "2025-05-25T10:18:42.218314Z",
     "iopub.status.busy": "2025-05-25T10:18:42.217283Z",
     "iopub.status.idle": "2025-05-25T10:18:42.224573Z",
     "shell.execute_reply": "2025-05-25T10:18:42.223588Z"
    },
    "papermill": {
     "duration": 0.013411,
     "end_time": "2025-05-25T10:18:42.226176",
     "exception": false,
     "start_time": "2025-05-25T10:18:42.212765",
     "status": "completed"
    },
    "tags": []
   },
   "outputs": [],
   "source": [
    "class SoilDataset(Dataset):\n",
    "    def __init__(self, df, img_dir, transform=None, test=False):\n",
    "        self.df = df\n",
    "        self.img_dir = img_dir\n",
    "        self.transform = transform\n",
    "        self.test = test\n",
    "\n",
    "    def __len__(self):\n",
    "        return len(self.df)\n",
    "\n",
    "    def __getitem__(self, idx):\n",
    "        img_name = self.df.iloc[idx]['image_id']\n",
    "        img_path = os.path.join(self.img_dir, img_name)\n",
    "        image = Image.open(img_path).convert(\"RGB\")\n",
    "        if self.transform:\n",
    "            image = self.transform(image)\n",
    "        if self.test:\n",
    "            return image, img_name\n",
    "        else:\n",
    "            label = self.df.iloc[idx]['label']\n",
    "            return image, label"
   ]
  },
  {
   "cell_type": "code",
   "execution_count": 7,
   "id": "2fbfb7c1",
   "metadata": {
    "execution": {
     "iopub.execute_input": "2025-05-25T10:18:42.234234Z",
     "iopub.status.busy": "2025-05-25T10:18:42.233856Z",
     "iopub.status.idle": "2025-05-25T10:18:42.240175Z",
     "shell.execute_reply": "2025-05-25T10:18:42.239217Z"
    },
    "papermill": {
     "duration": 0.012191,
     "end_time": "2025-05-25T10:18:42.241817",
     "exception": false,
     "start_time": "2025-05-25T10:18:42.229626",
     "status": "completed"
    },
    "tags": []
   },
   "outputs": [],
   "source": [
    "transform_train = transforms.Compose([\n",
    "    transforms.RandomResizedCrop(224),\n",
    "    transforms.RandomHorizontalFlip(),\n",
    "    transforms.RandomRotation(15),\n",
    "    transforms.ColorJitter(),\n",
    "    transforms.ToTensor(),\n",
    "    transforms.Normalize([0.485, 0.456, 0.406],\n",
    "                         [0.229, 0.224, 0.225])\n",
    "])\n",
    "\n",
    "transform_test = transforms.Compose([\n",
    "    transforms.Resize((224, 224)),\n",
    "    transforms.ToTensor(),\n",
    "    transforms.Normalize([0.485, 0.456, 0.406],\n",
    "                         [0.229, 0.224, 0.225])\n",
    "])"
   ]
  },
  {
   "cell_type": "code",
   "execution_count": 8,
   "id": "c89a2e0a",
   "metadata": {
    "execution": {
     "iopub.execute_input": "2025-05-25T10:18:42.249853Z",
     "iopub.status.busy": "2025-05-25T10:18:42.249502Z",
     "iopub.status.idle": "2025-05-25T10:18:42.348166Z",
     "shell.execute_reply": "2025-05-25T10:18:42.347098Z"
    },
    "papermill": {
     "duration": 0.104686,
     "end_time": "2025-05-25T10:18:42.349918",
     "exception": false,
     "start_time": "2025-05-25T10:18:42.245232",
     "status": "completed"
    },
    "tags": []
   },
   "outputs": [],
   "source": [
    "batch_size = 32\n",
    "train_loader = DataLoader(SoilDataset(train_df, train_img_dir, transform=transform_train), batch_size=batch_size, shuffle=True)\n",
    "val_loader = DataLoader(SoilDataset(val_df, train_img_dir, transform=transform_test), batch_size=batch_size)\n",
    "test_loader = DataLoader(SoilDataset(pd.DataFrame({'image_id': os.listdir(test_img_dir)}), test_img_dir, transform=transform_test, test=True), batch_size=batch_size)"
   ]
  },
  {
   "cell_type": "code",
   "execution_count": 9,
   "id": "134b01d1",
   "metadata": {
    "execution": {
     "iopub.execute_input": "2025-05-25T10:18:42.357877Z",
     "iopub.status.busy": "2025-05-25T10:18:42.357564Z",
     "iopub.status.idle": "2025-05-25T10:18:42.585954Z",
     "shell.execute_reply": "2025-05-25T10:18:42.585031Z"
    },
    "papermill": {
     "duration": 0.234532,
     "end_time": "2025-05-25T10:18:42.587746",
     "exception": false,
     "start_time": "2025-05-25T10:18:42.353214",
     "status": "completed"
    },
    "tags": []
   },
   "outputs": [],
   "source": [
    "import torch.nn as nn\n",
    "from torchvision import models\n",
    "\n",
    "device = torch.device(\"cuda\" if torch.cuda.is_available() else \"cpu\")\n",
    "\n",
    "model = models.resnet18(weights=None)\n",
    "\n",
    "model.fc = nn.Sequential(\n",
    "    nn.Linear(model.fc.in_features, 1),\n",
    "    nn.Sigmoid()\n",
    ")\n",
    "\n",
    "model = model.to(device)"
   ]
  },
  {
   "cell_type": "code",
   "execution_count": 10,
   "id": "08ef369f",
   "metadata": {
    "execution": {
     "iopub.execute_input": "2025-05-25T10:18:42.595328Z",
     "iopub.status.busy": "2025-05-25T10:18:42.595002Z",
     "iopub.status.idle": "2025-05-25T10:18:42.601036Z",
     "shell.execute_reply": "2025-05-25T10:18:42.600281Z"
    },
    "papermill": {
     "duration": 0.01139,
     "end_time": "2025-05-25T10:18:42.602501",
     "exception": false,
     "start_time": "2025-05-25T10:18:42.591111",
     "status": "completed"
    },
    "tags": []
   },
   "outputs": [],
   "source": [
    "criterion = nn.BCELoss()\n",
    "optimizer = torch.optim.Adam(model.parameters(), lr=1e-4)\n",
    "scheduler = torch.optim.lr_scheduler.StepLR(optimizer, step_size=5, gamma=0.5)"
   ]
  },
  {
   "cell_type": "code",
   "execution_count": 11,
   "id": "5556b788",
   "metadata": {
    "execution": {
     "iopub.execute_input": "2025-05-25T10:18:42.609988Z",
     "iopub.status.busy": "2025-05-25T10:18:42.609679Z",
     "iopub.status.idle": "2025-05-25T10:18:42.616222Z",
     "shell.execute_reply": "2025-05-25T10:18:42.615217Z"
    },
    "papermill": {
     "duration": 0.012045,
     "end_time": "2025-05-25T10:18:42.617768",
     "exception": false,
     "start_time": "2025-05-25T10:18:42.605723",
     "status": "completed"
    },
    "tags": []
   },
   "outputs": [],
   "source": [
    "def train_model(model, epochs=10):\n",
    "    for epoch in range(epochs):\n",
    "        model.train()\n",
    "        total_loss = 0\n",
    "        for images, labels in tqdm(train_loader):\n",
    "            images = images.to(device)\n",
    "            labels = labels.float().unsqueeze(1).to(device)\n",
    "\n",
    "            optimizer.zero_grad()\n",
    "            outputs = model(images)\n",
    "            loss = criterion(outputs, labels)\n",
    "            loss.backward()\n",
    "            optimizer.step()\n",
    "            total_loss += loss.item()\n",
    "\n",
    "        print(f\"Epoch [{epoch+1}/{epochs}] - Train Loss: {total_loss/len(train_loader):.4f}\")\n",
    "        evaluate_model(model)\n",
    "        scheduler.step()"
   ]
  },
  {
   "cell_type": "code",
   "execution_count": 12,
   "id": "eaa7a169",
   "metadata": {
    "execution": {
     "iopub.execute_input": "2025-05-25T10:18:42.625515Z",
     "iopub.status.busy": "2025-05-25T10:18:42.625171Z",
     "iopub.status.idle": "2025-05-25T10:18:42.631210Z",
     "shell.execute_reply": "2025-05-25T10:18:42.630239Z"
    },
    "papermill": {
     "duration": 0.011672,
     "end_time": "2025-05-25T10:18:42.632777",
     "exception": false,
     "start_time": "2025-05-25T10:18:42.621105",
     "status": "completed"
    },
    "tags": []
   },
   "outputs": [],
   "source": [
    "def evaluate_model(model):\n",
    "    model.eval()\n",
    "    all_preds = []\n",
    "    all_labels = []\n",
    "    with torch.no_grad():\n",
    "        for images, labels in val_loader:\n",
    "            images = images.to(device)\n",
    "            outputs = model(images)\n",
    "            preds = (outputs > 0.5).int().cpu().numpy()\n",
    "            all_preds.extend(preds)\n",
    "            all_labels.extend(labels.numpy())\n",
    "    f1 = f1_score(all_labels, all_preds)\n",
    "    print(f\"Validation F1 Score: {f1:.4f}\")"
   ]
  },
  {
   "cell_type": "code",
   "execution_count": 13,
   "id": "fb58780e",
   "metadata": {
    "execution": {
     "iopub.execute_input": "2025-05-25T10:18:42.640640Z",
     "iopub.status.busy": "2025-05-25T10:18:42.640218Z",
     "iopub.status.idle": "2025-05-25T10:48:32.380787Z",
     "shell.execute_reply": "2025-05-25T10:48:32.379751Z"
    },
    "papermill": {
     "duration": 1789.74619,
     "end_time": "2025-05-25T10:48:32.382337",
     "exception": false,
     "start_time": "2025-05-25T10:18:42.636147",
     "status": "completed"
    },
    "tags": []
   },
   "outputs": [
    {
     "name": "stderr",
     "output_type": "stream",
     "text": [
      "100%|██████████| 39/39 [02:50<00:00,  4.38s/it]\n"
     ]
    },
    {
     "name": "stdout",
     "output_type": "stream",
     "text": [
      "Epoch [1/10] - Train Loss: 0.5263\n",
      "Validation F1 Score: 0.8909\n"
     ]
    },
    {
     "name": "stderr",
     "output_type": "stream",
     "text": [
      "100%|██████████| 39/39 [02:41<00:00,  4.14s/it]\n"
     ]
    },
    {
     "name": "stdout",
     "output_type": "stream",
     "text": [
      "Epoch [2/10] - Train Loss: 0.5067\n",
      "Validation F1 Score: 0.8909\n"
     ]
    },
    {
     "name": "stderr",
     "output_type": "stream",
     "text": [
      "100%|██████████| 39/39 [02:44<00:00,  4.22s/it]\n"
     ]
    },
    {
     "name": "stdout",
     "output_type": "stream",
     "text": [
      "Epoch [3/10] - Train Loss: 0.5418\n",
      "Validation F1 Score: 0.8909\n"
     ]
    },
    {
     "name": "stderr",
     "output_type": "stream",
     "text": [
      "100%|██████████| 39/39 [02:43<00:00,  4.19s/it]\n"
     ]
    },
    {
     "name": "stdout",
     "output_type": "stream",
     "text": [
      "Epoch [4/10] - Train Loss: 0.5013\n",
      "Validation F1 Score: 0.8909\n"
     ]
    },
    {
     "name": "stderr",
     "output_type": "stream",
     "text": [
      "100%|██████████| 39/39 [02:41<00:00,  4.14s/it]\n"
     ]
    },
    {
     "name": "stdout",
     "output_type": "stream",
     "text": [
      "Epoch [5/10] - Train Loss: 0.5341\n",
      "Validation F1 Score: 0.8909\n"
     ]
    },
    {
     "name": "stderr",
     "output_type": "stream",
     "text": [
      "100%|██████████| 39/39 [02:41<00:00,  4.15s/it]\n"
     ]
    },
    {
     "name": "stdout",
     "output_type": "stream",
     "text": [
      "Epoch [6/10] - Train Loss: 0.4968\n",
      "Validation F1 Score: 0.8909\n"
     ]
    },
    {
     "name": "stderr",
     "output_type": "stream",
     "text": [
      "100%|██████████| 39/39 [02:39<00:00,  4.09s/it]\n"
     ]
    },
    {
     "name": "stdout",
     "output_type": "stream",
     "text": [
      "Epoch [7/10] - Train Loss: 0.4935\n",
      "Validation F1 Score: 0.8909\n"
     ]
    },
    {
     "name": "stderr",
     "output_type": "stream",
     "text": [
      "100%|██████████| 39/39 [02:44<00:00,  4.21s/it]\n"
     ]
    },
    {
     "name": "stdout",
     "output_type": "stream",
     "text": [
      "Epoch [8/10] - Train Loss: 0.4915\n",
      "Validation F1 Score: 0.8909\n"
     ]
    },
    {
     "name": "stderr",
     "output_type": "stream",
     "text": [
      "100%|██████████| 39/39 [02:40<00:00,  4.13s/it]\n"
     ]
    },
    {
     "name": "stdout",
     "output_type": "stream",
     "text": [
      "Epoch [9/10] - Train Loss: 0.4960\n",
      "Validation F1 Score: 0.8909\n"
     ]
    },
    {
     "name": "stderr",
     "output_type": "stream",
     "text": [
      "100%|██████████| 39/39 [02:41<00:00,  4.14s/it]\n"
     ]
    },
    {
     "name": "stdout",
     "output_type": "stream",
     "text": [
      "Epoch [10/10] - Train Loss: 0.5258\n",
      "Validation F1 Score: 0.8909\n"
     ]
    }
   ],
   "source": [
    "train_model(model, epochs=10)"
   ]
  },
  {
   "cell_type": "code",
   "execution_count": 14,
   "id": "f8684f17",
   "metadata": {
    "execution": {
     "iopub.execute_input": "2025-05-25T10:48:32.432149Z",
     "iopub.status.busy": "2025-05-25T10:48:32.431845Z",
     "iopub.status.idle": "2025-05-25T10:49:19.380116Z",
     "shell.execute_reply": "2025-05-25T10:49:19.378885Z"
    },
    "papermill": {
     "duration": 46.975238,
     "end_time": "2025-05-25T10:49:19.381646",
     "exception": false,
     "start_time": "2025-05-25T10:48:32.406408",
     "status": "completed"
    },
    "tags": []
   },
   "outputs": [
    {
     "name": "stderr",
     "output_type": "stream",
     "text": [
      "100%|██████████| 31/31 [00:46<00:00,  1.51s/it]\n"
     ]
    }
   ],
   "source": [
    "model.eval()\n",
    "preds = []\n",
    "file_names = []\n",
    "\n",
    "with torch.no_grad():\n",
    "    for images, names in tqdm(test_loader):\n",
    "        images = images.to(device)\n",
    "        outputs = model(images)\n",
    "        predicted = (outputs > 0.5).int().cpu().numpy()\n",
    "        preds.extend(predicted.flatten())\n",
    "        file_names.extend(names)"
   ]
  },
  {
   "cell_type": "code",
   "execution_count": 15,
   "id": "d705dcff",
   "metadata": {
    "execution": {
     "iopub.execute_input": "2025-05-25T10:49:19.433499Z",
     "iopub.status.busy": "2025-05-25T10:49:19.433133Z",
     "iopub.status.idle": "2025-05-25T10:49:19.471007Z",
     "shell.execute_reply": "2025-05-25T10:49:19.469955Z"
    },
    "papermill": {
     "duration": 0.065799,
     "end_time": "2025-05-25T10:49:19.472641",
     "exception": false,
     "start_time": "2025-05-25T10:49:19.406842",
     "status": "completed"
    },
    "tags": []
   },
   "outputs": [
    {
     "data": {
      "text/html": [
       "<div>\n",
       "<style scoped>\n",
       "    .dataframe tbody tr th:only-of-type {\n",
       "        vertical-align: middle;\n",
       "    }\n",
       "\n",
       "    .dataframe tbody tr th {\n",
       "        vertical-align: top;\n",
       "    }\n",
       "\n",
       "    .dataframe thead th {\n",
       "        text-align: right;\n",
       "    }\n",
       "</style>\n",
       "<table border=\"1\" class=\"dataframe\">\n",
       "  <thead>\n",
       "    <tr style=\"text-align: right;\">\n",
       "      <th></th>\n",
       "      <th>image_id</th>\n",
       "      <th>label</th>\n",
       "    </tr>\n",
       "  </thead>\n",
       "  <tbody>\n",
       "    <tr>\n",
       "      <th>0</th>\n",
       "      <td>465084323936570da664f0ca8dc90326.jpg</td>\n",
       "      <td>1</td>\n",
       "    </tr>\n",
       "    <tr>\n",
       "      <th>1</th>\n",
       "      <td>1aa0b12029d35e778dba5bff1255c638.jpg</td>\n",
       "      <td>1</td>\n",
       "    </tr>\n",
       "    <tr>\n",
       "      <th>2</th>\n",
       "      <td>6df2c3dcd4fb59298c7a73467ea72eeb.jpg</td>\n",
       "      <td>1</td>\n",
       "    </tr>\n",
       "    <tr>\n",
       "      <th>3</th>\n",
       "      <td>107f25ebd87f581ea57c630a2dcdf50c.jpg</td>\n",
       "      <td>1</td>\n",
       "    </tr>\n",
       "    <tr>\n",
       "      <th>4</th>\n",
       "      <td>dc35d58782615e4f9582c6b32c8b956e.jpg</td>\n",
       "      <td>1</td>\n",
       "    </tr>\n",
       "  </tbody>\n",
       "</table>\n",
       "</div>"
      ],
      "text/plain": [
       "                               image_id  label\n",
       "0  465084323936570da664f0ca8dc90326.jpg      1\n",
       "1  1aa0b12029d35e778dba5bff1255c638.jpg      1\n",
       "2  6df2c3dcd4fb59298c7a73467ea72eeb.jpg      1\n",
       "3  107f25ebd87f581ea57c630a2dcdf50c.jpg      1\n",
       "4  dc35d58782615e4f9582c6b32c8b956e.jpg      1"
      ]
     },
     "execution_count": 15,
     "metadata": {},
     "output_type": "execute_result"
    }
   ],
   "source": [
    "submission = pd.DataFrame({\n",
    "    'image_id': file_names,\n",
    "    'label': preds\n",
    "})\n",
    "\n",
    "submission.to_csv(\"submission.csv\", index=False)\n",
    "submission.head()"
   ]
  }
 ],
 "metadata": {
  "kaggle": {
   "accelerator": "none",
   "dataSources": [
    {
     "databundleVersionId": 12412856,
     "sourceId": 102966,
     "sourceType": "competition"
    },
    {
     "datasetId": 7500478,
     "sourceId": 11930283,
     "sourceType": "datasetVersion"
    }
   ],
   "dockerImageVersionId": 31040,
   "isGpuEnabled": false,
   "isInternetEnabled": false,
   "language": "python",
   "sourceType": "notebook"
  },
  "kernelspec": {
   "display_name": "Python 3",
   "language": "python",
   "name": "python3"
  },
  "language_info": {
   "codemirror_mode": {
    "name": "ipython",
    "version": 3
   },
   "file_extension": ".py",
   "mimetype": "text/x-python",
   "name": "python",
   "nbconvert_exporter": "python",
   "pygments_lexer": "ipython3",
   "version": "3.11.11"
  },
  "papermill": {
   "default_parameters": {},
   "duration": 1862.265367,
   "end_time": "2025-05-25T10:49:22.434028",
   "environment_variables": {},
   "exception": null,
   "input_path": "__notebook__.ipynb",
   "output_path": "__notebook__.ipynb",
   "parameters": {},
   "start_time": "2025-05-25T10:18:20.168661",
   "version": "2.6.0"
  }
 },
 "nbformat": 4,
 "nbformat_minor": 5
}
